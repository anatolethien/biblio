{
 "cells": [
  {
   "attachments": {},
   "cell_type": "markdown",
   "metadata": {},
   "source": [
    "# Notebook"
   ]
  },
  {
   "cell_type": "code",
   "execution_count": 7,
   "metadata": {},
   "outputs": [],
   "source": [
    "import pandas as pd\n",
    "df = pd.read_csv(\"assets/dataset.csv\")"
   ]
  },
  {
   "cell_type": "code",
   "execution_count": 8,
   "metadata": {},
   "outputs": [
    {
     "data": {
      "text/html": [
       "<div>\n",
       "<style scoped>\n",
       "    .dataframe tbody tr th:only-of-type {\n",
       "        vertical-align: middle;\n",
       "    }\n",
       "\n",
       "    .dataframe tbody tr th {\n",
       "        vertical-align: top;\n",
       "    }\n",
       "\n",
       "    .dataframe thead th {\n",
       "        text-align: right;\n",
       "    }\n",
       "</style>\n",
       "<table border=\"1\" class=\"dataframe\">\n",
       "  <thead>\n",
       "    <tr style=\"text-align: right;\">\n",
       "      <th></th>\n",
       "      <th>authors</th>\n",
       "      <th>bestsellers-rank</th>\n",
       "      <th>categories</th>\n",
       "      <th>description</th>\n",
       "      <th>dimension-x</th>\n",
       "      <th>dimension-y</th>\n",
       "      <th>dimension-z</th>\n",
       "      <th>edition</th>\n",
       "      <th>edition-statement</th>\n",
       "      <th>for-ages</th>\n",
       "      <th>...</th>\n",
       "      <th>isbn10</th>\n",
       "      <th>isbn13</th>\n",
       "      <th>lang</th>\n",
       "      <th>publication-date</th>\n",
       "      <th>publication-place</th>\n",
       "      <th>rating-avg</th>\n",
       "      <th>rating-count</th>\n",
       "      <th>title</th>\n",
       "      <th>url</th>\n",
       "      <th>weight</th>\n",
       "    </tr>\n",
       "  </thead>\n",
       "  <tbody>\n",
       "    <tr>\n",
       "      <th>0</th>\n",
       "      <td>[1]</td>\n",
       "      <td>49848.0</td>\n",
       "      <td>[214, 220, 237, 2646, 2647, 2659, 2660, 2679]</td>\n",
       "      <td>SOLDIER FIVE is an elite soldier's explosive m...</td>\n",
       "      <td>129.0</td>\n",
       "      <td>198.0</td>\n",
       "      <td>20.0</td>\n",
       "      <td>NaN</td>\n",
       "      <td>NaN</td>\n",
       "      <td>NaN</td>\n",
       "      <td>...</td>\n",
       "      <td>184018907X</td>\n",
       "      <td>9781840189070</td>\n",
       "      <td>en</td>\n",
       "      <td>2004-10-14 00:00:00</td>\n",
       "      <td>NaN</td>\n",
       "      <td>4.03</td>\n",
       "      <td>292.0</td>\n",
       "      <td>Soldier Five : The Real Truth About The Bravo ...</td>\n",
       "      <td>/Soldier-Five-Mike-Coburn/9781840189070</td>\n",
       "      <td>224.00</td>\n",
       "    </tr>\n",
       "    <tr>\n",
       "      <th>1</th>\n",
       "      <td>[2, 3]</td>\n",
       "      <td>115215.0</td>\n",
       "      <td>[235, 3386]</td>\n",
       "      <td>John Moran and Carl Williams were the two bigg...</td>\n",
       "      <td>127.0</td>\n",
       "      <td>203.2</td>\n",
       "      <td>25.4</td>\n",
       "      <td>NaN</td>\n",
       "      <td>NaN</td>\n",
       "      <td>NaN</td>\n",
       "      <td>...</td>\n",
       "      <td>184454737X</td>\n",
       "      <td>9781844547371</td>\n",
       "      <td>en</td>\n",
       "      <td>2009-03-13 00:00:00</td>\n",
       "      <td>NaN</td>\n",
       "      <td>3.60</td>\n",
       "      <td>335.0</td>\n",
       "      <td>Underbelly : The Gangland War</td>\n",
       "      <td>/Underbelly-Andrew-Rule/9781844547371</td>\n",
       "      <td>285.76</td>\n",
       "    </tr>\n",
       "    <tr>\n",
       "      <th>2</th>\n",
       "      <td>[4]</td>\n",
       "      <td>11732.0</td>\n",
       "      <td>[358, 2630, 360, 2632]</td>\n",
       "      <td>Sir Phillip knew that Eloise Bridgerton was a ...</td>\n",
       "      <td>150.0</td>\n",
       "      <td>224.0</td>\n",
       "      <td>28.0</td>\n",
       "      <td>New edition</td>\n",
       "      <td>NaN</td>\n",
       "      <td>NaN</td>\n",
       "      <td>...</td>\n",
       "      <td>8416327866</td>\n",
       "      <td>9788416327867</td>\n",
       "      <td>es</td>\n",
       "      <td>2020-04-30 00:00:00</td>\n",
       "      <td>NaN</td>\n",
       "      <td>3.88</td>\n",
       "      <td>37211.0</td>\n",
       "      <td>A Sir Phillip, Con Amor</td>\n",
       "      <td>/Sir-Phillip-Con-Amor-Julia-Quinn/9788416327867</td>\n",
       "      <td>386.00</td>\n",
       "    </tr>\n",
       "    <tr>\n",
       "      <th>3</th>\n",
       "      <td>[5, 6, 7, 8]</td>\n",
       "      <td>114379.0</td>\n",
       "      <td>[377, 2978, 2980]</td>\n",
       "      <td>The Third Book of General Ignorance  gathers t...</td>\n",
       "      <td>153.0</td>\n",
       "      <td>234.0</td>\n",
       "      <td>24.0</td>\n",
       "      <td>NaN</td>\n",
       "      <td>Export - Airside ed</td>\n",
       "      <td>NaN</td>\n",
       "      <td>...</td>\n",
       "      <td>571308996</td>\n",
       "      <td>9780571308996</td>\n",
       "      <td>en</td>\n",
       "      <td>2015-10-01 00:00:00</td>\n",
       "      <td>NaN</td>\n",
       "      <td>4.17</td>\n",
       "      <td>384.0</td>\n",
       "      <td>QI: The Third Book of General Ignorance</td>\n",
       "      <td>/QI-Third-Book-General-Ignorance-John-Lloyd/97...</td>\n",
       "      <td>436.00</td>\n",
       "    </tr>\n",
       "    <tr>\n",
       "      <th>4</th>\n",
       "      <td>[9]</td>\n",
       "      <td>98413.0</td>\n",
       "      <td>[2813, 2980]</td>\n",
       "      <td>The Try Guys deliver their first book-an inspi...</td>\n",
       "      <td>191.0</td>\n",
       "      <td>240.0</td>\n",
       "      <td>29.0</td>\n",
       "      <td>NaN</td>\n",
       "      <td>NaN</td>\n",
       "      <td>NaN</td>\n",
       "      <td>...</td>\n",
       "      <td>8352518</td>\n",
       "      <td>9780008352516</td>\n",
       "      <td>en</td>\n",
       "      <td>2019-06-18 00:00:00</td>\n",
       "      <td>NaN</td>\n",
       "      <td>3.90</td>\n",
       "      <td>5095.0</td>\n",
       "      <td>The Hidden Power of F*cking Up</td>\n",
       "      <td>/Hidden-Power-F-cking-Up-Try-Guys/9780008352516</td>\n",
       "      <td>980.00</td>\n",
       "    </tr>\n",
       "  </tbody>\n",
       "</table>\n",
       "<p>5 rows × 28 columns</p>\n",
       "</div>"
      ],
      "text/plain": [
       "        authors  bestsellers-rank  \\\n",
       "0           [1]           49848.0   \n",
       "1        [2, 3]          115215.0   \n",
       "2           [4]           11732.0   \n",
       "3  [5, 6, 7, 8]          114379.0   \n",
       "4           [9]           98413.0   \n",
       "\n",
       "                                      categories  \\\n",
       "0  [214, 220, 237, 2646, 2647, 2659, 2660, 2679]   \n",
       "1                                    [235, 3386]   \n",
       "2                         [358, 2630, 360, 2632]   \n",
       "3                              [377, 2978, 2980]   \n",
       "4                                   [2813, 2980]   \n",
       "\n",
       "                                         description  dimension-x  \\\n",
       "0  SOLDIER FIVE is an elite soldier's explosive m...        129.0   \n",
       "1  John Moran and Carl Williams were the two bigg...        127.0   \n",
       "2  Sir Phillip knew that Eloise Bridgerton was a ...        150.0   \n",
       "3  The Third Book of General Ignorance  gathers t...        153.0   \n",
       "4  The Try Guys deliver their first book-an inspi...        191.0   \n",
       "\n",
       "   dimension-y  dimension-z      edition    edition-statement for-ages  ...  \\\n",
       "0        198.0         20.0          NaN                  NaN      NaN  ...   \n",
       "1        203.2         25.4          NaN                  NaN      NaN  ...   \n",
       "2        224.0         28.0  New edition                  NaN      NaN  ...   \n",
       "3        234.0         24.0          NaN  Export - Airside ed      NaN  ...   \n",
       "4        240.0         29.0          NaN                  NaN      NaN  ...   \n",
       "\n",
       "       isbn10         isbn13 lang     publication-date publication-place  \\\n",
       "0  184018907X  9781840189070   en  2004-10-14 00:00:00               NaN   \n",
       "1  184454737X  9781844547371   en  2009-03-13 00:00:00               NaN   \n",
       "2  8416327866  9788416327867   es  2020-04-30 00:00:00               NaN   \n",
       "3   571308996  9780571308996   en  2015-10-01 00:00:00               NaN   \n",
       "4     8352518  9780008352516   en  2019-06-18 00:00:00               NaN   \n",
       "\n",
       "  rating-avg rating-count                                              title  \\\n",
       "0       4.03        292.0  Soldier Five : The Real Truth About The Bravo ...   \n",
       "1       3.60        335.0                      Underbelly : The Gangland War   \n",
       "2       3.88      37211.0                            A Sir Phillip, Con Amor   \n",
       "3       4.17        384.0            QI: The Third Book of General Ignorance   \n",
       "4       3.90       5095.0                     The Hidden Power of F*cking Up   \n",
       "\n",
       "                                                 url  weight  \n",
       "0            /Soldier-Five-Mike-Coburn/9781840189070  224.00  \n",
       "1              /Underbelly-Andrew-Rule/9781844547371  285.76  \n",
       "2    /Sir-Phillip-Con-Amor-Julia-Quinn/9788416327867  386.00  \n",
       "3  /QI-Third-Book-General-Ignorance-John-Lloyd/97...  436.00  \n",
       "4    /Hidden-Power-F-cking-Up-Try-Guys/9780008352516  980.00  \n",
       "\n",
       "[5 rows x 28 columns]"
      ]
     },
     "execution_count": 8,
     "metadata": {},
     "output_type": "execute_result"
    },
    {
     "ename": "",
     "evalue": "",
     "output_type": "error",
     "traceback": [
      "\u001b[1;31mLe Kernel s’est bloqué lors de l’exécution du code dans la cellule active ou une cellule précédente. Veuillez vérifier le code dans la ou les cellules pour identifier une cause possible de l’échec. Cliquez <a href='https://aka.ms/vscodeJupyterKernelCrash'>ici</a> pour plus d’informations. Pour plus d’informations, consultez Jupyter <a href='command:jupyter.viewOutput'>log</a>."
     ]
    }
   ],
   "source": [
    "df.head(5)"
   ]
  },
  {
   "cell_type": "code",
   "execution_count": null,
   "metadata": {},
   "outputs": [],
   "source": [
    "df.shape # nb de lignes / colonnes"
   ]
  },
  {
   "cell_type": "code",
   "execution_count": null,
   "metadata": {},
   "outputs": [],
   "source": [
    "df.iloc[2:4]"
   ]
  },
  {
   "cell_type": "code",
   "execution_count": null,
   "metadata": {},
   "outputs": [],
   "source": [
    "df[\"categories\"]"
   ]
  },
  {
   "cell_type": "code",
   "execution_count": null,
   "metadata": {},
   "outputs": [],
   "source": [
    "df_authors = pd.read_csv(\"assets/authors.csv\")"
   ]
  },
  {
   "cell_type": "code",
   "execution_count": null,
   "metadata": {},
   "outputs": [],
   "source": [
    "df_authors.head(5)"
   ]
  },
  {
   "cell_type": "code",
   "execution_count": null,
   "metadata": {},
   "outputs": [],
   "source": [
    "df_authors = df_authors[~df_authors[\"author_name\"].isna()]"
   ]
  },
  {
   "cell_type": "code",
   "execution_count": null,
   "metadata": {},
   "outputs": [],
   "source": [
    "df_authors = df_authors.set_index(\"author_id\")"
   ]
  },
  {
   "cell_type": "code",
   "execution_count": null,
   "metadata": {},
   "outputs": [],
   "source": [
    "df[~df[\"categories\"].isna()]"
   ]
  },
  {
   "cell_type": "code",
   "execution_count": null,
   "metadata": {},
   "outputs": [],
   "source": [
    "df[\"authors\"] = df[\"authors\"].apply(eval)"
   ]
  },
  {
   "cell_type": "code",
   "execution_count": null,
   "metadata": {},
   "outputs": [],
   "source": [
    "def parse_authors(row):\n",
    "    liste_tuple_info_auteurs = []\n",
    "    for id_author in row:\n",
    "        if id_author in df_authors.index:\n",
    "            info_auteur = df_authors.loc[id_author]\n",
    "            liste_tuple_info_auteurs.append((id_author, info_auteur[\"author_name\"]))\n",
    "    return liste_tuple_info_auteurs"
   ]
  },
  {
   "cell_type": "code",
   "execution_count": null,
   "metadata": {},
   "outputs": [],
   "source": [
    "df[\"authors\"] = df[\"authors\"].apply(parse_authors)"
   ]
  },
  {
   "cell_type": "code",
   "execution_count": null,
   "metadata": {},
   "outputs": [],
   "source": [
    "df.drop(columns=[\"column1\"])"
   ]
  }
 ],
 "metadata": {
  "kernelspec": {
   "display_name": "env",
   "language": "python",
   "name": "python3"
  },
  "language_info": {
   "codemirror_mode": {
    "name": "ipython",
    "version": 3
   },
   "file_extension": ".py",
   "mimetype": "text/x-python",
   "name": "python",
   "nbconvert_exporter": "python",
   "pygments_lexer": "ipython3",
   "version": "3.10.6 (main, Nov 14 2022, 16:10:14) [GCC 11.3.0]"
  },
  "orig_nbformat": 4,
  "vscode": {
   "interpreter": {
    "hash": "e108e3f70ffd460c51a6d5e8bc3e4ce9f57909fa13cf36774815be33cc6a4db5"
   }
  }
 },
 "nbformat": 4,
 "nbformat_minor": 2
}
