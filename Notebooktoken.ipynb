{
 "cells": [
  {
   "cell_type": "code",
   "execution_count": 24,
   "metadata": {},
   "outputs": [
    {
     "name": "stderr",
     "output_type": "stream",
     "text": [
      "[nltk_data] Downloading package stopwords to\n",
      "[nltk_data]     C:\\Users\\Antho\\AppData\\Roaming\\nltk_data...\n",
      "[nltk_data]   Package stopwords is already up-to-date!\n",
      "[nltk_data] Downloading package punkt to\n",
      "[nltk_data]     C:\\Users\\Antho\\AppData\\Roaming\\nltk_data...\n",
      "[nltk_data]   Package punkt is already up-to-date!\n"
     ]
    },
    {
     "data": {
      "text/plain": [
       "True"
      ]
     },
     "execution_count": 24,
     "metadata": {},
     "output_type": "execute_result"
    }
   ],
   "source": [
    "import pandas as pd\n",
    "import csv\n",
    "import nltk\n",
    "from nltk.corpus import names, stopwords, words\n",
    "import re\n",
    "nltk.download('stopwords')\n",
    "nltk.download('punkt')"
   ]
  },
  {
   "cell_type": "code",
   "execution_count": 40,
   "metadata": {},
   "outputs": [
    {
     "name": "stdout",
     "output_type": "stream",
     "text": [
      "['a', 'about', 'above', 'after', 'again', 'against', 'ain', 'all', 'am', 'an', 'and', 'any', 'are', 'aren', \"aren't\", 'as', 'at', 'be', 'because', 'been', 'before', 'being', 'below', 'between', 'both', 'but', 'by', 'can', 'couldn', \"couldn't\", 'd', 'did', 'didn', \"didn't\", 'do', 'does', 'doesn', \"doesn't\", 'doing', 'don', \"don't\", 'down', 'during', 'each', 'few', 'for', 'from', 'further', 'had', 'hadn', \"hadn't\", 'has', 'hasn', \"hasn't\", 'have', 'haven', \"haven't\", 'having', 'he', 'her', 'here', 'hers', 'herself', 'him', 'himself', 'his', 'how', 'i', 'if', 'in', 'into', 'is', 'isn', \"isn't\", 'it', \"it's\", 'its', 'itself', 'just', 'll', 'm', 'ma', 'me', 'mightn', \"mightn't\", 'more', 'most', 'mustn', \"mustn't\", 'my', 'myself', 'needn', \"needn't\", 'no', 'nor', 'not', 'now', 'o', 'of', 'off', 'on', 'once', 'only', 'or', 'other', 'our', 'ours', 'ourselves', 'out', 'over', 'own', 're', 's', 'same', 'shan', \"shan't\", 'she', \"she's\", 'should', \"should've\", 'shouldn', \"shouldn't\", 'so', 'some', 'such', 't', 'than', 'that', \"that'll\", 'the', 'their', 'theirs', 'them', 'themselves', 'then', 'there', 'these', 'they', 'this', 'those', 'through', 'to', 'too', 'under', 'until', 'up', 've', 'very', 'was', 'wasn', \"wasn't\", 'we', 'were', 'weren', \"weren't\", 'what', 'when', 'where', 'which', 'while', 'who', 'whom', 'why', 'will', 'with', 'won', \"won't\", 'wouldn', \"wouldn't\", 'y', 'you', \"you'd\", \"you'll\", \"you're\", \"you've\", 'your', 'yours', 'yourself', 'yourselves']\n"
     ]
    }
   ],
   "source": [
    "stopword = sorted(stopwords.words('english'))\n",
    "print(stopword)"
   ]
  },
  {
   "cell_type": "code",
   "execution_count": 39,
   "metadata": {},
   "outputs": [
    {
     "data": {
      "text/html": [
       "<div>\n",
       "<style scoped>\n",
       "    .dataframe tbody tr th:only-of-type {\n",
       "        vertical-align: middle;\n",
       "    }\n",
       "\n",
       "    .dataframe tbody tr th {\n",
       "        vertical-align: top;\n",
       "    }\n",
       "\n",
       "    .dataframe thead th {\n",
       "        text-align: right;\n",
       "    }\n",
       "</style>\n",
       "<table border=\"1\" class=\"dataframe\">\n",
       "  <thead>\n",
       "    <tr style=\"text-align: right;\">\n",
       "      <th></th>\n",
       "      <th>authors</th>\n",
       "      <th>categories</th>\n",
       "      <th>description</th>\n",
       "      <th>id</th>\n",
       "      <th>title</th>\n",
       "      <th>corpus</th>\n",
       "    </tr>\n",
       "  </thead>\n",
       "  <tbody>\n",
       "    <tr>\n",
       "      <th>0</th>\n",
       "      <td>[1]</td>\n",
       "      <td>[214, 220, 237, 2646, 2647, 2659, 2660, 2679]</td>\n",
       "      <td>SOLDIER FIVE is an elite soldier's explosive m...</td>\n",
       "      <td>9781840189070</td>\n",
       "      <td>Soldier Five : The Real Truth About The Bravo ...</td>\n",
       "      <td>[soldier, five, the, real, truth, about, the, ...</td>\n",
       "    </tr>\n",
       "    <tr>\n",
       "      <th>1</th>\n",
       "      <td>[2, 3]</td>\n",
       "      <td>[235, 3386]</td>\n",
       "      <td>John Moran and Carl Williams were the two bigg...</td>\n",
       "      <td>9781844547371</td>\n",
       "      <td>Underbelly : The Gangland War</td>\n",
       "      <td>[underbelly, the, gangland, war, john, moran, ...</td>\n",
       "    </tr>\n",
       "    <tr>\n",
       "      <th>2</th>\n",
       "      <td>[5, 6, 7, 8]</td>\n",
       "      <td>[377, 2978, 2980]</td>\n",
       "      <td>The Third Book of General Ignorance  gathers t...</td>\n",
       "      <td>9780571308996</td>\n",
       "      <td>QI: The Third Book of General Ignorance</td>\n",
       "      <td>[qi, the, third, book, of, general, ignorance,...</td>\n",
       "    </tr>\n",
       "    <tr>\n",
       "      <th>3</th>\n",
       "      <td>[9]</td>\n",
       "      <td>[2813, 2980]</td>\n",
       "      <td>The Try Guys deliver their first book-an inspi...</td>\n",
       "      <td>9780008352516</td>\n",
       "      <td>The Hidden Power of F*cking Up</td>\n",
       "      <td>[the, hidden, power, of, f, cking, up, the, tr...</td>\n",
       "    </tr>\n",
       "    <tr>\n",
       "      <th>4</th>\n",
       "      <td>[10, 11]</td>\n",
       "      <td>[1520, 1532]</td>\n",
       "      <td>When and how did the universe begin? Why are w...</td>\n",
       "      <td>9780553819229</td>\n",
       "      <td>The Grand Design</td>\n",
       "      <td>[the, grand, design, when, and, how, did, the,...</td>\n",
       "    </tr>\n",
       "  </tbody>\n",
       "</table>\n",
       "</div>"
      ],
      "text/plain": [
       "        authors                                     categories  \\\n",
       "0           [1]  [214, 220, 237, 2646, 2647, 2659, 2660, 2679]   \n",
       "1        [2, 3]                                    [235, 3386]   \n",
       "2  [5, 6, 7, 8]                              [377, 2978, 2980]   \n",
       "3           [9]                                   [2813, 2980]   \n",
       "4      [10, 11]                                   [1520, 1532]   \n",
       "\n",
       "                                         description             id  \\\n",
       "0  SOLDIER FIVE is an elite soldier's explosive m...  9781840189070   \n",
       "1  John Moran and Carl Williams were the two bigg...  9781844547371   \n",
       "2  The Third Book of General Ignorance  gathers t...  9780571308996   \n",
       "3  The Try Guys deliver their first book-an inspi...  9780008352516   \n",
       "4  When and how did the universe begin? Why are w...  9780553819229   \n",
       "\n",
       "                                               title  \\\n",
       "0  Soldier Five : The Real Truth About The Bravo ...   \n",
       "1                      Underbelly : The Gangland War   \n",
       "2            QI: The Third Book of General Ignorance   \n",
       "3                     The Hidden Power of F*cking Up   \n",
       "4                                   The Grand Design   \n",
       "\n",
       "                                              corpus  \n",
       "0  [soldier, five, the, real, truth, about, the, ...  \n",
       "1  [underbelly, the, gangland, war, john, moran, ...  \n",
       "2  [qi, the, third, book, of, general, ignorance,...  \n",
       "3  [the, hidden, power, of, f, cking, up, the, tr...  \n",
       "4  [the, grand, design, when, and, how, did, the,...  "
      ]
     },
     "execution_count": 39,
     "metadata": {},
     "output_type": "execute_result"
    }
   ],
   "source": [
    "df = pd.read_csv(\n",
    "    filepath_or_buffer='assets/books.csv',\n",
    "    sep=\",\",\n",
    "    usecols=[\n",
    "        'authors',\n",
    "        'categories',\n",
    "        'title',\n",
    "        'description',\n",
    "        'id',\n",
    "        \n",
    "        \n",
    "    ]\n",
    "    \n",
    ")\n",
    "# df.info(memory_usage='deep')\n",
    "df['corpus'] = df['title'] + ' ' + df['description']\n",
    "df['corpus'] = df['corpus'].str.lower()\n",
    "# df['corpus'] = df['corpus'].astype(str)\n",
    "# df['corpus'].apply(lambda x: re.sub(pattern=r'^\\\\w$', repl=r'^\\\\w\\\\s$', string=x))\n",
    "df['corpus']=df['corpus'].apply(lambda x: re.findall(r'\\w+', x))\n",
    "\n",
    "df.head()"
   ]
  },
  {
   "cell_type": "code",
   "execution_count": null,
   "metadata": {},
   "outputs": [],
   "source": [
    "no_stpwords_string=\"\"\n",
    "for i in lst_string:\n",
    "    if not i in stopwords:\n",
    "        no_stpwords_string += i+' '"
   ]
  },
  {
   "cell_type": "code",
   "execution_count": 15,
   "metadata": {},
   "outputs": [
    {
     "data": {
      "text/html": [
       "<div>\n",
       "<style scoped>\n",
       "    .dataframe tbody tr th:only-of-type {\n",
       "        vertical-align: middle;\n",
       "    }\n",
       "\n",
       "    .dataframe tbody tr th {\n",
       "        vertical-align: top;\n",
       "    }\n",
       "\n",
       "    .dataframe thead th {\n",
       "        text-align: right;\n",
       "    }\n",
       "</style>\n",
       "<table border=\"1\" class=\"dataframe\">\n",
       "  <thead>\n",
       "    <tr style=\"text-align: right;\">\n",
       "      <th></th>\n",
       "      <th>authors</th>\n",
       "      <th>categories</th>\n",
       "      <th>description</th>\n",
       "      <th>id</th>\n",
       "      <th>title</th>\n",
       "      <th>concat</th>\n",
       "    </tr>\n",
       "  </thead>\n",
       "  <tbody>\n",
       "    <tr>\n",
       "      <th>0</th>\n",
       "      <td>[1]</td>\n",
       "      <td>[214, 220, 237, 2646, 2647, 2659, 2660, 2679]</td>\n",
       "      <td>SOLDIER FIVE is an elite soldier's explosive m...</td>\n",
       "      <td>9781840189070</td>\n",
       "      <td>Soldier Five : The Real Truth About The Bravo ...</td>\n",
       "      <td>Soldier Five : The Real Truth About The Bravo ...</td>\n",
       "    </tr>\n",
       "    <tr>\n",
       "      <th>1</th>\n",
       "      <td>[2, 3]</td>\n",
       "      <td>[235, 3386]</td>\n",
       "      <td>John Moran and Carl Williams were the two bigg...</td>\n",
       "      <td>9781844547371</td>\n",
       "      <td>Underbelly : The Gangland War</td>\n",
       "      <td>Underbelly : The Gangland War John Moran and C...</td>\n",
       "    </tr>\n",
       "    <tr>\n",
       "      <th>2</th>\n",
       "      <td>[5, 6, 7, 8]</td>\n",
       "      <td>[377, 2978, 2980]</td>\n",
       "      <td>The Third Book of General Ignorance  gathers t...</td>\n",
       "      <td>9780571308996</td>\n",
       "      <td>QI: The Third Book of General Ignorance</td>\n",
       "      <td>QI: The Third Book of General Ignorance The Th...</td>\n",
       "    </tr>\n",
       "    <tr>\n",
       "      <th>3</th>\n",
       "      <td>[9]</td>\n",
       "      <td>[2813, 2980]</td>\n",
       "      <td>The Try Guys deliver their first book-an inspi...</td>\n",
       "      <td>9780008352516</td>\n",
       "      <td>The Hidden Power of F*cking Up</td>\n",
       "      <td>The Hidden Power of F*cking Up The Try Guys de...</td>\n",
       "    </tr>\n",
       "    <tr>\n",
       "      <th>4</th>\n",
       "      <td>[10, 11]</td>\n",
       "      <td>[1520, 1532]</td>\n",
       "      <td>When and how did the universe begin? Why are w...</td>\n",
       "      <td>9780553819229</td>\n",
       "      <td>The Grand Design</td>\n",
       "      <td>The Grand Design When and how did the universe...</td>\n",
       "    </tr>\n",
       "  </tbody>\n",
       "</table>\n",
       "</div>"
      ],
      "text/plain": [
       "        authors                                     categories  \\\n",
       "0           [1]  [214, 220, 237, 2646, 2647, 2659, 2660, 2679]   \n",
       "1        [2, 3]                                    [235, 3386]   \n",
       "2  [5, 6, 7, 8]                              [377, 2978, 2980]   \n",
       "3           [9]                                   [2813, 2980]   \n",
       "4      [10, 11]                                   [1520, 1532]   \n",
       "\n",
       "                                         description             id  \\\n",
       "0  SOLDIER FIVE is an elite soldier's explosive m...  9781840189070   \n",
       "1  John Moran and Carl Williams were the two bigg...  9781844547371   \n",
       "2  The Third Book of General Ignorance  gathers t...  9780571308996   \n",
       "3  The Try Guys deliver their first book-an inspi...  9780008352516   \n",
       "4  When and how did the universe begin? Why are w...  9780553819229   \n",
       "\n",
       "                                               title  \\\n",
       "0  Soldier Five : The Real Truth About The Bravo ...   \n",
       "1                      Underbelly : The Gangland War   \n",
       "2            QI: The Third Book of General Ignorance   \n",
       "3                     The Hidden Power of F*cking Up   \n",
       "4                                   The Grand Design   \n",
       "\n",
       "                                              concat  \n",
       "0  Soldier Five : The Real Truth About The Bravo ...  \n",
       "1  Underbelly : The Gangland War John Moran and C...  \n",
       "2  QI: The Third Book of General Ignorance The Th...  \n",
       "3  The Hidden Power of F*cking Up The Try Guys de...  \n",
       "4  The Grand Design When and how did the universe...  "
      ]
     },
     "execution_count": 15,
     "metadata": {},
     "output_type": "execute_result"
    }
   ],
   "source": [
    "# df['corpus'].dropna(inplace=True)\n",
    "# df.head()"
   ]
  },
  {
   "cell_type": "code",
   "execution_count": null,
   "metadata": {},
   "outputs": [],
   "source": [
    "def tokenize(column):"
   ]
  }
 ],
 "metadata": {
  "kernelspec": {
   "display_name": "Python 3",
   "language": "python",
   "name": "python3"
  },
  "language_info": {
   "codemirror_mode": {
    "name": "ipython",
    "version": 3
   },
   "file_extension": ".py",
   "mimetype": "text/x-python",
   "name": "python",
   "nbconvert_exporter": "python",
   "pygments_lexer": "ipython3",
   "version": "3.11.1"
  },
  "orig_nbformat": 4,
  "vscode": {
   "interpreter": {
    "hash": "2481aee8cf180aff2d4ec3e053637f706fd2be444d37f983a36b5243af303a62"
   }
  }
 },
 "nbformat": 4,
 "nbformat_minor": 2
}
