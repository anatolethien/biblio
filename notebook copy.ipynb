{
 "cells": [
  {
   "attachments": {},
   "cell_type": "markdown",
   "metadata": {},
   "source": [
    "# Notebook"
   ]
  },
  {
   "cell_type": "code",
   "execution_count": 10,
   "metadata": {},
   "outputs": [],
   "source": [
    "import json\n",
    "import sqlite3\n",
    "import pandas as pd\n",
    "import numpy as np\n",
    "from sklearn.feature_extraction.text import CountVectorizer\n",
    "from sklearn.metrics.pairwise import cosine_similarity\n",
    "\n",
    "con = sqlite3.connect('instance/database.sqlite')\n",
    "query = 'SELECT * FROM book;'\n",
    "\n",
    "books = pd.read_sql(\n",
    "    sql=query,\n",
    "    con=con\n",
    ")\n",
    "corpus = books['title'] + ' ' + books['description']\n",
    "\n",
    "cv = CountVectorizer()\n",
    "matrix = cv.fit_transform(corpus)\n",
    "similarity_matrix = cosine_similarity(matrix)"
   ]
  },
  {
   "cell_type": "code",
   "execution_count": 37,
   "metadata": {},
   "outputs": [],
   "source": [
    "recommandations = {}\n",
    "for book in books.itertuples():\n",
    "    i = book.Index\n",
    "    book_id = book.id\n",
    "    similarity_scores = similarity_matrix[i]\n",
    "    closest_indices = np.argsort(similarity_scores)[-6:-1]\n",
    "    closest_books = [books.loc[idx].to_dict() for idx in closest_indices]\n",
    "    recommandations[int(book_id)] = closest_books"
   ]
  },
  {
   "cell_type": "code",
   "execution_count": null,
   "metadata": {},
   "outputs": [],
   "source": [
    "with open('recommandations.json', 'w') as file:\n",
    "    json.dump(recommandations, file)"
   ]
  },
  {
   "cell_type": "code",
   "execution_count": 11,
   "metadata": {},
   "outputs": [],
   "source": [
    "# recommandations = {}\n",
    "# for i, book_id in enumerate(books['id']):\n",
    "#     similarity_scores = similarity_matrix[i]\n",
    "#     closest_indices = np.argsort(similarity_scores)[-6:-1]\n",
    "#     closest_ids = [int(books.loc[idx, 'id']) for idx in closest_indices]\n",
    "#     recommandations[int(book_id)] = closest_ids\n",
    "\n",
    "# recommandations = {int(key): value for key, value in recommandations.items()}\n",
    "\n",
    "# with open('recommandations.json', 'w') as file:\n",
    "#     json.dump(recommandations, file)"
   ]
  }
 ],
 "metadata": {
  "kernelspec": {
   "display_name": "env",
   "language": "python",
   "name": "python3"
  },
  "language_info": {
   "codemirror_mode": {
    "name": "ipython",
    "version": 3
   },
   "file_extension": ".py",
   "mimetype": "text/x-python",
   "name": "python",
   "nbconvert_exporter": "python",
   "pygments_lexer": "ipython3",
   "version": "3.10.11"
  },
  "orig_nbformat": 4,
  "vscode": {
   "interpreter": {
    "hash": "e108e3f70ffd460c51a6d5e8bc3e4ce9f57909fa13cf36774815be33cc6a4db5"
   }
  }
 },
 "nbformat": 4,
 "nbformat_minor": 2
}
